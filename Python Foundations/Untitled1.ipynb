{
 "cells": [
  {
   "cell_type": "code",
   "execution_count": 1,
   "id": "9510ab55",
   "metadata": {},
   "outputs": [
    {
     "name": "stdout",
     "output_type": "stream",
     "text": [
      "Please enter your age: 24\n",
      "24\n"
     ]
    },
    {
     "data": {
      "text/plain": [
       "int"
      ]
     },
     "execution_count": 1,
     "metadata": {},
     "output_type": "execute_result"
    }
   ],
   "source": [
    "age = int(input(\"Please enter your age: \"))\n",
    "print(age)\n",
    "type(age)"
   ]
  },
  {
   "cell_type": "code",
   "execution_count": 3,
   "id": "c4f0d078",
   "metadata": {},
   "outputs": [
    {
     "name": "stdout",
     "output_type": "stream",
     "text": [
      "Please enter your name: Paul\n",
      "Paul\n"
     ]
    },
    {
     "data": {
      "text/plain": [
       "str"
      ]
     },
     "execution_count": 3,
     "metadata": {},
     "output_type": "execute_result"
    }
   ],
   "source": [
    "name = input(\"Please enter your name: \")\n",
    "print(name)\n",
    "type(name)"
   ]
  },
  {
   "cell_type": "code",
   "execution_count": 4,
   "id": "78ea968e",
   "metadata": {},
   "outputs": [
    {
     "name": "stdout",
     "output_type": "stream",
     "text": [
      "Enter your weight:24\n"
     ]
    }
   ],
   "source": [
    "weight = input(\"Enter your weight:\")"
   ]
  },
  {
   "cell_type": "code",
   "execution_count": 5,
   "id": "28898e95",
   "metadata": {},
   "outputs": [
    {
     "name": "stdout",
     "output_type": "stream",
     "text": [
      "Enter your weight:50\n"
     ]
    }
   ],
   "source": [
    "weight = float(input(\"Enter your weight:\"))"
   ]
  },
  {
   "cell_type": "code",
   "execution_count": 6,
   "id": "8b6d6d15",
   "metadata": {},
   "outputs": [
    {
     "name": "stdout",
     "output_type": "stream",
     "text": [
      "a + b =  14\n",
      "a - b =  10\n",
      "a * b =  24\n",
      "a % b =  0\n",
      "a / b =  6.0\n",
      "a // b =  6\n",
      "a ** b =  144\n"
     ]
    }
   ],
   "source": [
    "a = 12\n",
    "b = 2\n",
    "# '+' operator\n",
    "print('a + b = ',a+b)                                #Prints addition of a and b\n",
    "\n",
    "# '-' operator\n",
    "print('a - b = ',a-b)                                #Prints subtraction of a and b\n",
    "\n",
    "# '*' operator\n",
    "print('a * b = ',a*b)                                #Prints multiplication of a and b\n",
    "\n",
    "# '%' operator\n",
    "print('a % b = ',a%b)                                #Prints remainder of division between a and b\n",
    "\n",
    "# '/' operator\n",
    "print('a / b = ',a/b)                                #Prints division of a and b\n",
    "\n",
    "# '//' operator\n",
    "print('a // b = ',a//b)                              #Prints the integer value of the division between a and b\n",
    "\n",
    "# '**' operator\n",
    "print('a ** b = ',a**b)                              #Prints the result of a to the power b"
   ]
  },
  {
   "cell_type": "code",
   "execution_count": 7,
   "id": "a49a5743",
   "metadata": {},
   "outputs": [
    {
     "name": "stdout",
     "output_type": "stream",
     "text": [
      "a > b is  False\n",
      "a < b is  True\n",
      "a == b is  False\n",
      "a != b is  True\n",
      "a >= b is  False\n",
      "a <= b is  True\n"
     ]
    }
   ],
   "source": [
    "a = 10\n",
    "b = 20\n",
    "\n",
    "# '>' operator\n",
    "print('a > b is ',a>b)                                #Prints False since a is smaller than b\n",
    "\n",
    "# '<' operator\n",
    "print('a < b is ',a<b)                                #Prints True since a is smaller than b\n",
    "\n",
    "# '==' operator\n",
    "print('a == b is ',a==b)                              #Prints False since a and b are not equal\n",
    "\n",
    "# '!=' operator\n",
    "print('a != b is ',a!=b)                              #Prints True since a is not equal to b\n",
    "\n",
    "# '>=' operator\n",
    "print('a >= b is ',a>=b)                              #Prints False since a is not smaller nor equal to b\n",
    "\n",
    "# '<=' operator\n",
    "print('a <= b is ',a<=b)                              #Prints True since a is smaller than b"
   ]
  },
  {
   "cell_type": "code",
   "execution_count": 8,
   "id": "8b57bc32",
   "metadata": {},
   "outputs": [
    {
     "name": "stdout",
     "output_type": "stream",
     "text": [
      "x =  5\n",
      "Updated value of x after (x += 5) is  10\n",
      "Updated value of x after (x -= 2) is  8\n",
      "Updated value of x after (x *= 2) is  16\n",
      "Updated value of x after (x /= 4) is  4.0\n"
     ]
    }
   ],
   "source": [
    "# '=' operator\n",
    "x = 5                                                   #Prints False since a is smaller than b\n",
    "print('x = ',x)\n",
    "\n",
    "# '+=' operator\n",
    "x += 5                                                  #Adds the values on either side and assigns it to the expression on the left\n",
    "print('Updated value of x after (x += 5) is ',x)\n",
    "\n",
    "# '-=' operator\n",
    "x -= 2                                                  #Subtracts 2 from the latest value of x (which is 10) and assigns it to x\n",
    "print('Updated value of x after (x -= 2) is ',x)\n",
    "\n",
    "# '*=' operator\n",
    "x *= 2                                                  #Multiplies the current value of x (which is 8) with 2 and assigns the result to x\n",
    "print('Updated value of x after (x *= 2) is ',x)\n",
    "\n",
    "# '+=' operator\n",
    "x /= 4                                                  #Divides the current value of x (which is 16) with 4 and assigns the result to x\n",
    "print('Updated value of x after (x /= 4) is ',x)"
   ]
  },
  {
   "cell_type": "code",
   "execution_count": 9,
   "id": "5a0edc96",
   "metadata": {},
   "outputs": [
    {
     "name": "stdout",
     "output_type": "stream",
     "text": [
      "True\n"
     ]
    }
   ],
   "source": [
    "x = 11\n",
    "a = x>10 and x<20\n",
    "print(a)"
   ]
  },
  {
   "cell_type": "code",
   "execution_count": 11,
   "id": "074e994c",
   "metadata": {},
   "outputs": [
    {
     "name": "stdout",
     "output_type": "stream",
     "text": [
      "False\n"
     ]
    }
   ],
   "source": [
    "x=11\n",
    "a = x>10 and x==12\n",
    "print(a)"
   ]
  },
  {
   "cell_type": "code",
   "execution_count": 12,
   "id": "7a251265",
   "metadata": {},
   "outputs": [
    {
     "name": "stdout",
     "output_type": "stream",
     "text": [
      "True\n"
     ]
    }
   ],
   "source": [
    "x = 11\n",
    "a = x>10 or x==20\n",
    "print(a)"
   ]
  },
  {
   "cell_type": "code",
   "execution_count": 13,
   "id": "b53ec75a",
   "metadata": {},
   "outputs": [
    {
     "name": "stdout",
     "output_type": "stream",
     "text": [
      "False\n"
     ]
    }
   ],
   "source": [
    "x = 11\n",
    "a = x>12 or x==20\n",
    "print(a)"
   ]
  },
  {
   "cell_type": "code",
   "execution_count": null,
   "id": "1c1a3f7e",
   "metadata": {},
   "outputs": [],
   "source": []
  }
 ],
 "metadata": {
  "kernelspec": {
   "display_name": "Python 3 (ipykernel)",
   "language": "python",
   "name": "python3"
  },
  "language_info": {
   "codemirror_mode": {
    "name": "ipython",
    "version": 3
   },
   "file_extension": ".py",
   "mimetype": "text/x-python",
   "name": "python",
   "nbconvert_exporter": "python",
   "pygments_lexer": "ipython3",
   "version": "3.10.9"
  }
 },
 "nbformat": 4,
 "nbformat_minor": 5
}
