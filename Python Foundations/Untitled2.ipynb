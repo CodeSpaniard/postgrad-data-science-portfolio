{
 "cells": [
  {
   "cell_type": "markdown",
   "id": "91c1deed",
   "metadata": {},
   "source": [
    "# 1. Introduction to List"
   ]
  },
  {
   "cell_type": "markdown",
   "id": "a9e8040e",
   "metadata": {},
   "source": [
    "## Constructing Lists\n",
    "To create a list, use square brackets [] and separate items in the list with commas. A list can be empty or contain any number of items with different data types (integers, floats, strings, etc.)"
   ]
  },
  {
   "cell_type": "code",
   "execution_count": 1,
   "id": "0fa3abea",
   "metadata": {},
   "outputs": [
    {
     "data": {
      "text/plain": [
       "[]"
      ]
     },
     "execution_count": 1,
     "metadata": {},
     "output_type": "execute_result"
    }
   ],
   "source": [
    "# create an empty list\n",
    "empty_list = []\n",
    "empty_list"
   ]
  },
  {
   "cell_type": "code",
   "execution_count": 2,
   "id": "f29116ca",
   "metadata": {},
   "outputs": [
    {
     "data": {
      "text/plain": [
       "[['Data Science', 'Machine Learning'], [135, 232, 321]]"
      ]
     },
     "execution_count": 2,
     "metadata": {},
     "output_type": "execute_result"
    }
   ],
   "source": [
    "#nested list\n",
    "my_list = [['Data Science','Machine Learning'],[135,232,321]]\n",
    "my_list"
   ]
  },
  {
   "cell_type": "markdown",
   "id": "038ebd1e",
   "metadata": {},
   "source": [
    "## Accessing Elements in a List\n",
    "You can access the list items by referring to the index number"
   ]
  },
  {
   "cell_type": "markdown",
   "id": "335f94b1",
   "metadata": {},
   "source": [
    "### Indexing:\n",
    "We use the index operator []. Each item in a list has an assigned index value. Note that the index starts from 0 in python and must be an integer."
   ]
  },
  {
   "cell_type": "raw",
   "id": "6781680d",
   "metadata": {},
   "source": [
    "Print the second item of the list"
   ]
  },
  {
   "cell_type": "code",
   "execution_count": 4,
   "id": "ace9b286",
   "metadata": {},
   "outputs": [
    {
     "name": "stdout",
     "output_type": "stream",
     "text": [
      "['data science', 'machine learning', 'python', 'html', 'big data']\n",
      "machine learning\n"
     ]
    }
   ],
   "source": [
    "# define a list\n",
    "course = ['data science','machine learning','python','html','big data']\n",
    "print(course)\n",
    "# access the second item of a list at index 1\n",
    "print (course[1])"
   ]
  },
  {
   "cell_type": "markdown",
   "id": "4a273ceb",
   "metadata": {},
   "source": [
    "### Negative indexing:\n",
    "Negative indexing means beginning from the end, -1 refers to the last item, -2 refers to the second last item"
   ]
  },
  {
   "cell_type": "markdown",
   "id": "f202242a",
   "metadata": {},
   "source": [
    "Print the second last item of the list"
   ]
  },
  {
   "cell_type": "code",
   "execution_count": 5,
   "id": "d235a491",
   "metadata": {},
   "outputs": [
    {
     "name": "stdout",
     "output_type": "stream",
     "text": [
      "['data science', 'machine learning', 'python', 'html', 'big data']\n",
      "html\n"
     ]
    }
   ],
   "source": [
    "# define a list\n",
    "course = ['data science','machine learning','python','html','big data']\n",
    "print(course)\n",
    "# access the second last item of a list at index -2\n",
    "print (course[-2])"
   ]
  },
  {
   "cell_type": "markdown",
   "id": "e731a66f",
   "metadata": {},
   "source": [
    "## Slicing of a list\n",
    "List uses the slicing operator : (colon) to extract part of the sequence"
   ]
  },
  {
   "cell_type": "markdown",
   "id": "eba3fd0b",
   "metadata": {},
   "source": [
    "Return "
   ]
  }
 ],
 "metadata": {
  "kernelspec": {
   "display_name": "Python 3 (ipykernel)",
   "language": "python",
   "name": "python3"
  },
  "language_info": {
   "codemirror_mode": {
    "name": "ipython",
    "version": 3
   },
   "file_extension": ".py",
   "mimetype": "text/x-python",
   "name": "python",
   "nbconvert_exporter": "python",
   "pygments_lexer": "ipython3",
   "version": "3.10.9"
  }
 },
 "nbformat": 4,
 "nbformat_minor": 5
}
