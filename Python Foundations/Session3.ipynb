{
 "cells": [
  {
   "cell_type": "markdown",
   "id": "d1bc8b72",
   "metadata": {},
   "source": [
    "## 1. Introduction to List"
   ]
  },
  {
   "cell_type": "markdown",
   "id": "4c03a446",
   "metadata": {},
   "source": [
    "### Constructing Lists\n",
    "To create a list, use square brackets [] and separate items in the list with commas. A list can be empty or contain any number of items with different data types (integers, floats, strings, etc.)"
   ]
  },
  {
   "cell_type": "code",
   "execution_count": 1,
   "id": "c17f33a3",
   "metadata": {},
   "outputs": [
    {
     "data": {
      "text/plain": [
       "[]"
      ]
     },
     "execution_count": 1,
     "metadata": {},
     "output_type": "execute_result"
    }
   ],
   "source": [
    "# create an empty list\n",
    "empty_list = []\n",
    "empty_list"
   ]
  },
  {
   "cell_type": "code",
   "execution_count": 2,
   "id": "c83e2de4",
   "metadata": {},
   "outputs": [
    {
     "data": {
      "text/plain": [
       "[['Data Science', 'Machine Learning'], [135, 232, 321]]"
      ]
     },
     "execution_count": 2,
     "metadata": {},
     "output_type": "execute_result"
    }
   ],
   "source": [
    "#nested list\n",
    "my_list = [['Data Science','Machine Learning'],[135,232,321]]\n",
    "my_list"
   ]
  },
  {
   "cell_type": "markdown",
   "id": "e7288404",
   "metadata": {},
   "source": [
    "### Accessing Elements in a List\n",
    "You can access the list items by referring to the index number"
   ]
  },
  {
   "cell_type": "markdown",
   "id": "c31206b2",
   "metadata": {},
   "source": [
    "#### Indexing:\n",
    "We use the index operator []. Each item in a list has an assigned index value. Note that the index starts from 0 in python and must be an integer."
   ]
  },
  {
   "cell_type": "raw",
   "id": "1a9d8406",
   "metadata": {},
   "source": [
    "Print the second item of the list"
   ]
  },
  {
   "cell_type": "code",
   "execution_count": 4,
   "id": "4e624077",
   "metadata": {},
   "outputs": [
    {
     "name": "stdout",
     "output_type": "stream",
     "text": [
      "['data science', 'machine learning', 'python', 'html', 'big data']\n",
      "machine learning\n"
     ]
    }
   ],
   "source": [
    "# define a list\n",
    "course = ['data science','machine learning','python','html','big data']\n",
    "print(course)\n",
    "# access the second item of a list at index 1\n",
    "print (course[1])"
   ]
  },
  {
   "cell_type": "markdown",
   "id": "363e7f38",
   "metadata": {},
   "source": [
    "#### Negative indexing:\n",
    "Negative indexing means beginning from the end, -1 refers to the last item, -2 refers to the second last item"
   ]
  },
  {
   "cell_type": "markdown",
   "id": "f791b0a0",
   "metadata": {},
   "source": [
    "Print the second last item of the list"
   ]
  },
  {
   "cell_type": "code",
   "execution_count": 8,
   "id": "87add626",
   "metadata": {},
   "outputs": [
    {
     "name": "stdout",
     "output_type": "stream",
     "text": [
      "html\n"
     ]
    }
   ],
   "source": [
    "# define a list\n",
    "course = ['data science','machine learning','python','html','big data']\n",
    "\n",
    "# access the second last item of a list at index -2\n",
    "print (course[-2])"
   ]
  },
  {
   "cell_type": "markdown",
   "id": "8ef39769",
   "metadata": {},
   "source": [
    "#### Slicing of a list\n",
    "List uses the slicing operator : (colon) to extract part of the sequence"
   ]
  },
  {
   "cell_type": "markdown",
   "id": "78e522e7",
   "metadata": {},
   "source": [
    "Return first three elements from the list"
   ]
  },
  {
   "cell_type": "code",
   "execution_count": 11,
   "id": "5e56b99e",
   "metadata": {},
   "outputs": [
    {
     "data": {
      "text/plain": [
       "['data science', 'machine learning', 'python']"
      ]
     },
     "execution_count": 11,
     "metadata": {},
     "output_type": "execute_result"
    }
   ],
   "source": [
    "# define a list\n",
    "course = ['data science','machine learning','python','html','big data']\n",
    "\n",
    "# print first three elements from the list\n",
    "course[:3]"
   ]
  },
  {
   "cell_type": "markdown",
   "id": "c7cb5bd1",
   "metadata": {},
   "source": [
    "Select elements from beginning to end"
   ]
  },
  {
   "cell_type": "code",
   "execution_count": 15,
   "id": "7c5d3be2",
   "metadata": {},
   "outputs": [
    {
     "data": {
      "text/plain": [
       "['data science', 'machine learning', 'python', 'html', 'big data']"
      ]
     },
     "execution_count": 15,
     "metadata": {},
     "output_type": "execute_result"
    }
   ],
   "source": [
    "# define a list\n",
    "course = ['data science','machine learning','python','html','big data']\n",
    "\n",
    "# print all the elements\n",
    "course[:]"
   ]
  },
  {
   "cell_type": "markdown",
   "id": "3f0f508e",
   "metadata": {},
   "source": [
    "Return from third element"
   ]
  },
  {
   "cell_type": "code",
   "execution_count": 17,
   "id": "87bf73bb",
   "metadata": {},
   "outputs": [
    {
     "data": {
      "text/plain": [
       "['python', 'html', 'big data']"
      ]
     },
     "execution_count": 17,
     "metadata": {},
     "output_type": "execute_result"
    }
   ],
   "source": [
    "# define a list\n",
    "course = ['data science','machine learning','python','html','big data']\n",
    "\n",
    "# print from third element\n",
    "course[2:]"
   ]
  },
  {
   "cell_type": "markdown",
   "id": "6aa05066",
   "metadata": {},
   "source": [
    "If all three start, stop, and step are provided, it generates portion of sequence after index start till stop with increment of index step"
   ]
  },
  {
   "cell_type": "code",
   "execution_count": 22,
   "id": "ff2a485d",
   "metadata": {},
   "outputs": [
    {
     "name": "stdout",
     "output_type": "stream",
     "text": [
      "[3, 5, 7]\n"
     ]
    }
   ],
   "source": [
    "a = [1,2,3,4,5,6,7,8,9,10]\n",
    "print(a[2:7:2])"
   ]
  },
  {
   "cell_type": "markdown",
   "id": "d945cac8",
   "metadata": {},
   "source": [
    "#### Change Item Value\n",
    "Refer the index number to change the value of a specific item"
   ]
  },
  {
   "cell_type": "code",
   "execution_count": 23,
   "id": "481e22a9",
   "metadata": {},
   "outputs": [
    {
     "data": {
      "text/plain": [
       "['data science', 'machine learning', 'python', 'statistics', 'big data']"
      ]
     },
     "execution_count": 23,
     "metadata": {},
     "output_type": "execute_result"
    }
   ],
   "source": [
    "# define a list\n",
    "course = ['data science','machine learning','python','html','big data']\n",
    "\n",
    "# change the third item\n",
    "course[3] = 'statistics'\n",
    "course"
   ]
  },
  {
   "cell_type": "markdown",
   "id": "1d74ae8e",
   "metadata": {},
   "source": [
    "### List Methods\n",
    "Python has a set of built-in methods that you can use on lists and arrays"
   ]
  },
  {
   "cell_type": "markdown",
   "id": "23dd14dd",
   "metadata": {},
   "source": [
    "Python has built-in methods that you can use on lists:<br>\n",
    "append()<br>\n",
    "insert()<br>\n",
    "extend()<br>\n",
    "del<br>\n",
    "remove()<br>\n",
    "pop()<br>\n",
    "reverse()<br>"
   ]
  },
  {
   "cell_type": "markdown",
   "id": "4328a1ae",
   "metadata": {},
   "source": [
    "#### list.append(item)\n",
    "The method list.append(item) will add the element at the end of a list"
   ]
  },
  {
   "cell_type": "code",
   "execution_count": 26,
   "id": "81fb108b",
   "metadata": {},
   "outputs": [
    {
     "data": {
      "text/plain": [
       "['data science',\n",
       " 'machine learning',\n",
       " 'python',\n",
       " 'html',\n",
       " 'big data',\n",
       " ['statistics']]"
      ]
     },
     "execution_count": 26,
     "metadata": {},
     "output_type": "execute_result"
    }
   ],
   "source": [
    "# define a first list\n",
    "course1 = ['data science','machine learning','python','html','big data']\n",
    "\n",
    "# add element to the list\n",
    "course2 = ['statistics']\n",
    "course1.append(course2)\n",
    "course1"
   ]
  },
  {
   "cell_type": "markdown",
   "id": "a47e799b",
   "metadata": {},
   "source": [
    "#### list.insert(i, item)\n",
    "This method will insert an element at the ith index in a list"
   ]
  },
  {
   "cell_type": "code",
   "execution_count": 27,
   "id": "d4c79963",
   "metadata": {},
   "outputs": [
    {
     "data": {
      "text/plain": [
       "['data science',\n",
       " 'machine learning',\n",
       " 'statistics',\n",
       " 'python',\n",
       " 'html',\n",
       " 'big data']"
      ]
     },
     "execution_count": 27,
     "metadata": {},
     "output_type": "execute_result"
    }
   ],
   "source": [
    "# define a  first list\n",
    "course = ['data science','machine learning','python','html','big data']\n",
    "\n",
    "# insert element at 2nd index in a list\n",
    "course.insert(2,'statistics')\n",
    "course"
   ]
  },
  {
   "cell_type": "markdown",
   "id": "e39f7221",
   "metadata": {},
   "source": [
    "#### list.extend(items)\n",
    "The extend method concatenates lists"
   ]
  },
  {
   "cell_type": "code",
   "execution_count": 28,
   "id": "5caeaed5",
   "metadata": {},
   "outputs": [
    {
     "data": {
      "text/plain": [
       "['data science',\n",
       " 'machine learning',\n",
       " 'python',\n",
       " 'html',\n",
       " 'big data',\n",
       " 'artificial intelligence']"
      ]
     },
     "execution_count": 28,
     "metadata": {},
     "output_type": "execute_result"
    }
   ],
   "source": [
    "# define a first list\n",
    "course1 = ['data science','machine learning','python','html','big data']\n",
    "\n",
    "# define a second list\n",
    "course2 = ['artificial intelligence']\n",
    "\n",
    "# concatenate the list\n",
    "course2 = ['artificial intelligence']\n",
    "course1.extend(course2)\n",
    "course1"
   ]
  },
  {
   "cell_type": "markdown",
   "id": "e770833f",
   "metadata": {},
   "source": [
    "#### **Deleting List Elements**\n",
    "Use the del keyword to delete an item at specific index"
   ]
  },
  {
   "cell_type": "code",
   "execution_count": 29,
   "id": "0db5531d",
   "metadata": {},
   "outputs": [
    {
     "data": {
      "text/plain": [
       "['data science', 'machine learning', 'html', 'big data']"
      ]
     },
     "execution_count": 29,
     "metadata": {},
     "output_type": "execute_result"
    }
   ],
   "source": [
    "# define a first list\n",
    "course = ['data science','machine learning','python','html','big data']\n",
    "\n",
    "# delete the third element from the list\n",
    "del course[2]\n",
    "course"
   ]
  },
  {
   "cell_type": "markdown",
   "id": "9cf16962",
   "metadata": {},
   "source": [
    "#### list.remove(item)\n",
    "It will search and remove only the first occurrence of an item"
   ]
  },
  {
   "cell_type": "code",
   "execution_count": 30,
   "id": "b008ce33",
   "metadata": {},
   "outputs": [
    {
     "data": {
      "text/plain": [
       "['data science', 'machine learning', 'python', 'big data']"
      ]
     },
     "execution_count": 30,
     "metadata": {},
     "output_type": "execute_result"
    }
   ],
   "source": [
    "# define a first list\n",
    "course = ['data science','machine learning','python','html','big data']\n",
    "\n",
    "course.remove('html')\n",
    "course"
   ]
  },
  {
   "cell_type": "markdown",
   "id": "3c28bdc2",
   "metadata": {},
   "source": [
    "#### **list.pop()**\n",
    "Removes and returns the last item of a list"
   ]
  },
  {
   "cell_type": "code",
   "execution_count": 34,
   "id": "03ec44c5",
   "metadata": {},
   "outputs": [
    {
     "data": {
      "text/plain": [
       "['data science', 'python', 'big data', 'html']"
      ]
     },
     "execution_count": 34,
     "metadata": {},
     "output_type": "execute_result"
    }
   ],
   "source": [
    "# define a first list\n",
    "course = ['data science','machine learning','python','big data','html']\n",
    "\n",
    "course.pop(1)\n",
    "course\n"
   ]
  },
  {
   "cell_type": "markdown",
   "id": "45c0d671",
   "metadata": {},
   "source": [
    "#### list.reverse()\n",
    "The reverse method reverses the sorting order of the elements"
   ]
  },
  {
   "cell_type": "code",
   "execution_count": 32,
   "id": "82801989",
   "metadata": {},
   "outputs": [
    {
     "data": {
      "text/plain": [
       "['html', 'big data', 'python', 'machine learning', 'data science']"
      ]
     },
     "execution_count": 32,
     "metadata": {},
     "output_type": "execute_result"
    }
   ],
   "source": [
    "# define a first list\n",
    "course = ['data science','machine learning','python','big data','html']\n",
    "\n",
    "course.reverse()\n",
    "course"
   ]
  },
  {
   "cell_type": "markdown",
   "id": "10414675",
   "metadata": {},
   "source": [
    "### Common List Operations"
   ]
  },
  {
   "cell_type": "markdown",
   "id": "ae50e8d6",
   "metadata": {},
   "source": [
    "#### Concatenation(+)\n",
    "Concatenation uses the + Operator. It combines lists"
   ]
  },
  {
   "cell_type": "code",
   "execution_count": 37,
   "id": "76c5501e",
   "metadata": {},
   "outputs": [
    {
     "data": {
      "text/plain": [
       "['data science',\n",
       " 'machine learning',\n",
       " 'python',\n",
       " 'html',\n",
       " 'big data',\n",
       " 'artificial intelligence',\n",
       " 'statistics']"
      ]
     },
     "execution_count": 37,
     "metadata": {},
     "output_type": "execute_result"
    }
   ],
   "source": [
    "# define a first list\n",
    "course1 = ['data science','machine learning','python','html','big data']\n",
    "\n",
    "# define a second list\n",
    "course2 = ['artificial intelligence','statistics']\n",
    "\n",
    "# concatenate the list\n",
    "course1 + course2"
   ]
  },
  {
   "cell_type": "markdown",
   "id": "79fd84ed",
   "metadata": {},
   "source": [
    "#### Repetition(*)\n",
    "Use the * operator. Concatenates a list a repeated number of times"
   ]
  },
  {
   "cell_type": "code",
   "execution_count": 36,
   "id": "44dae117",
   "metadata": {},
   "outputs": [
    {
     "data": {
      "text/plain": [
       "['data science',\n",
       " 'machine learning',\n",
       " 'python',\n",
       " 'html',\n",
       " 'big data',\n",
       " 'data science',\n",
       " 'machine learning',\n",
       " 'python',\n",
       " 'html',\n",
       " 'big data']"
      ]
     },
     "execution_count": 36,
     "metadata": {},
     "output_type": "execute_result"
    }
   ],
   "source": [
    "# define a first list\n",
    "course1 = ['data science','machine learning','python','html','big data']\n",
    "\n",
    "course1*2"
   ]
  },
  {
   "cell_type": "markdown",
   "id": "61984e35",
   "metadata": {},
   "source": [
    "## 2. Introduction to Tuples"
   ]
  },
  {
   "cell_type": "markdown",
   "id": "af5b5a3d",
   "metadata": {},
   "source": [
    "### Creating Tuple\n",
    "Here, we are creating few tuples. We can have tuple of same type of data items as well as mixed type of data items"
   ]
  },
  {
   "cell_type": "code",
   "execution_count": 39,
   "id": "1d3c2379",
   "metadata": {},
   "outputs": [
    {
     "name": "stdout",
     "output_type": "stream",
     "text": [
      "(123, 2.228, 'hello python')\n"
     ]
    }
   ],
   "source": [
    "# tuple of int, float, string\n",
    "my_tuple = (123, 2.228, \"hello python\")\n",
    "print(my_tuple)"
   ]
  },
  {
   "cell_type": "code",
   "execution_count": 40,
   "id": "7b8f5327",
   "metadata": {},
   "outputs": [
    {
     "name": "stdout",
     "output_type": "stream",
     "text": [
      "('python', [12, 12, 31])\n"
     ]
    }
   ],
   "source": [
    "# tuple of string and list\n",
    "my_tuple = (\"python\", [12, 12, 31])\n",
    "print(my_tuple)"
   ]
  },
  {
   "cell_type": "markdown",
   "id": "0a2b3d8b",
   "metadata": {},
   "source": [
    "### Access Tuple Elements\n",
    "We use indexes to access the elements of tuple"
   ]
  },
  {
   "cell_type": "code",
   "execution_count": 41,
   "id": "1bb56546",
   "metadata": {},
   "outputs": [
    {
     "data": {
      "text/plain": [
       "'yellow'"
      ]
     },
     "execution_count": 41,
     "metadata": {},
     "output_type": "execute_result"
    }
   ],
   "source": [
    "# tuple of strings\n",
    "my_tuple = (\"mango\", \"yellow\", \"green\", \"blue\")\n",
    "\n",
    "# access the second element from the list\n",
    "my_tuple[1]"
   ]
  },
  {
   "cell_type": "markdown",
   "id": "64d0a662",
   "metadata": {},
   "source": [
    "#### **Negative Indexing**\n",
    "Negative indexing means beginning from the end, -1 refers to the last item, -2 refers to the second last item"
   ]
  },
  {
   "cell_type": "code",
   "execution_count": 43,
   "id": "3651ae02",
   "metadata": {},
   "outputs": [
    {
     "data": {
      "text/plain": [
       "'blue'"
      ]
     },
     "execution_count": 43,
     "metadata": {},
     "output_type": "execute_result"
    }
   ],
   "source": [
    "# tuple of strings\n",
    "my_tuple = (\"mango\", \"yellow\", \"green\", \"blue\")\n",
    "\n",
    "# print last item of the tuple\n",
    "my_tuple[-1]"
   ]
  },
  {
   "cell_type": "markdown",
   "id": "39919473",
   "metadata": {},
   "source": [
    "#### Change Tuple Values\n",
    "We cannot change the elements of a tuple because elements of a tuple are immutable. However, we can change the elements of nested items that are mutable."
   ]
  },
  {
   "cell_type": "code",
   "execution_count": 44,
   "id": "84b40eac",
   "metadata": {},
   "outputs": [
    {
     "name": "stdout",
     "output_type": "stream",
     "text": [
      "(123, ['s', 'a', 'v'], 'world')\n",
      "(123, ['s', 'a', 99], 'world')\n"
     ]
    }
   ],
   "source": [
    "my_tuple = (123, ['s', 'a', 'v'], \"world\")\n",
    "print(my_tuple)\n",
    "\n",
    "# changing the element of the list\n",
    "# this is valid because list is mutable\n",
    "my_tuple[1][2] = 99\n",
    "print(my_tuple)"
   ]
  },
  {
   "cell_type": "code",
   "execution_count": 45,
   "id": "d6c9631a",
   "metadata": {},
   "outputs": [
    {
     "ename": "TypeError",
     "evalue": "'tuple' object does not support item assignment",
     "output_type": "error",
     "traceback": [
      "\u001b[0;31m---------------------------------------------------------------------------\u001b[0m",
      "\u001b[0;31mTypeError\u001b[0m                                 Traceback (most recent call last)",
      "Cell \u001b[0;32mIn[45], line 6\u001b[0m\n\u001b[1;32m      2\u001b[0m my_tuple \u001b[38;5;241m=\u001b[39m (\u001b[38;5;124m\"\u001b[39m\u001b[38;5;124mmango\u001b[39m\u001b[38;5;124m\"\u001b[39m, \u001b[38;5;124m\"\u001b[39m\u001b[38;5;124myellow\u001b[39m\u001b[38;5;124m\"\u001b[39m, \u001b[38;5;124m\"\u001b[39m\u001b[38;5;124mgreen\u001b[39m\u001b[38;5;124m\"\u001b[39m, \u001b[38;5;124m\"\u001b[39m\u001b[38;5;124mblue\u001b[39m\u001b[38;5;124m\"\u001b[39m, \u001b[38;5;241m353\u001b[39m, \u001b[38;5;241m363.2\u001b[39m, \u001b[38;5;124m'\u001b[39m\u001b[38;5;124mw\u001b[39m\u001b[38;5;124m'\u001b[39m)\n\u001b[1;32m      4\u001b[0m \u001b[38;5;66;03m# changing an element of the tuple\u001b[39;00m\n\u001b[1;32m      5\u001b[0m \u001b[38;5;66;03m# this is invalid since tuple elements are immutable\u001b[39;00m\n\u001b[0;32m----> 6\u001b[0m my_tuple[\u001b[38;5;241m0\u001b[39m] \u001b[38;5;241m=\u001b[39m \u001b[38;5;124m'\u001b[39m\u001b[38;5;124morange\u001b[39m\u001b[38;5;124m'\u001b[39m\n",
      "\u001b[0;31mTypeError\u001b[0m: 'tuple' object does not support item assignment"
     ]
    }
   ],
   "source": [
    "# define the tuple\n",
    "my_tuple = (\"mango\", \"yellow\", \"green\", \"blue\", 353, 363.2, 'w')\n",
    "\n",
    "# changing an element of the tuple\n",
    "# this is invalid since tuple elements are immutable\n",
    "my_tuple[0] = 'orange'"
   ]
  },
  {
   "cell_type": "markdown",
   "id": "49197698",
   "metadata": {},
   "source": [
    "### Delete Operation on Tuple\n",
    "We already discussed above that tuple elements are immutable, which also means that we cannot delete elements of a tuple. However, deleting entire tuple is possible"
   ]
  },
  {
   "cell_type": "code",
   "execution_count": 46,
   "id": "dd635037",
   "metadata": {},
   "outputs": [
    {
     "ename": "TypeError",
     "evalue": "'tuple' object doesn't support item deletion",
     "output_type": "error",
     "traceback": [
      "\u001b[0;31m---------------------------------------------------------------------------\u001b[0m",
      "\u001b[0;31mTypeError\u001b[0m                                 Traceback (most recent call last)",
      "Cell \u001b[0;32mIn[46], line 4\u001b[0m\n\u001b[1;32m      1\u001b[0m \u001b[38;5;66;03m# define the tuple\u001b[39;00m\n\u001b[1;32m      2\u001b[0m my_tuple \u001b[38;5;241m=\u001b[39m (\u001b[38;5;124m\"\u001b[39m\u001b[38;5;124mmango\u001b[39m\u001b[38;5;124m\"\u001b[39m, \u001b[38;5;124m\"\u001b[39m\u001b[38;5;124myellow\u001b[39m\u001b[38;5;124m\"\u001b[39m, \u001b[38;5;124m\"\u001b[39m\u001b[38;5;124mgreen\u001b[39m\u001b[38;5;124m\"\u001b[39m, \u001b[38;5;124m\"\u001b[39m\u001b[38;5;124mblue\u001b[39m\u001b[38;5;124m\"\u001b[39m, \u001b[38;5;241m353\u001b[39m, \u001b[38;5;241m363.2\u001b[39m, \u001b[38;5;124m'\u001b[39m\u001b[38;5;124mw\u001b[39m\u001b[38;5;124m'\u001b[39m)\n\u001b[0;32m----> 4\u001b[0m \u001b[38;5;28;01mdel\u001b[39;00m my_tuple[\u001b[38;5;241m0\u001b[39m]\n",
      "\u001b[0;31mTypeError\u001b[0m: 'tuple' object doesn't support item deletion"
     ]
    }
   ],
   "source": [
    "# define the tuple\n",
    "my_tuple = (\"mango\", \"yellow\", \"green\", \"blue\", 353, 363.2, 'w')\n",
    "\n",
    "del my_tuple[0]"
   ]
  },
  {
   "cell_type": "markdown",
   "id": "3b3772a8",
   "metadata": {},
   "source": [
    "### Tuple Methods"
   ]
  },
  {
   "cell_type": "markdown",
   "id": "156650ee",
   "metadata": {},
   "source": [
    "Python has two built-in methods that you can use on tuples:<br>\n",
    "count()<br>\n",
    "index()<br>\n",
    "\n",
    "And a function:<br>\n",
    "sorted()<br>"
   ]
  },
  {
   "cell_type": "markdown",
   "id": "1a347c78",
   "metadata": {},
   "source": [
    "#### count()\n",
    "Returns the number of times a specified value occurs in a tuple"
   ]
  },
  {
   "cell_type": "code",
   "execution_count": 47,
   "id": "bff04479",
   "metadata": {},
   "outputs": [
    {
     "data": {
      "text/plain": [
       "4"
      ]
     },
     "execution_count": 47,
     "metadata": {},
     "output_type": "execute_result"
    }
   ],
   "source": [
    "my_tuple = ('a', 'p', 'p', 'l', 'e', 'e', 'd', 'e', 'd', 'e', 'a', 'c', 'w')\n",
    "my_tuple.count('e')"
   ]
  },
  {
   "cell_type": "markdown",
   "id": "180f6526",
   "metadata": {},
   "source": [
    "#### index()\n",
    "Searches the tuple for a specified value and returns the position of where it was found"
   ]
  },
  {
   "cell_type": "code",
   "execution_count": 48,
   "id": "e228fcb0",
   "metadata": {},
   "outputs": [
    {
     "data": {
      "text/plain": [
       "3"
      ]
     },
     "execution_count": 48,
     "metadata": {},
     "output_type": "execute_result"
    }
   ],
   "source": [
    "my_tuple = ('a', 'p', 'p', 'l', 'e', 'e', 'd', 'e', 'd', 'e', 'a', 'c', 'w')\n",
    "my_tuple.index('l')"
   ]
  },
  {
   "cell_type": "markdown",
   "id": "a877213d",
   "metadata": {},
   "source": [
    "#### sorted()\n",
    "It sorts a tuple and always returns a list with the elements in a sorted manner"
   ]
  },
  {
   "cell_type": "code",
   "execution_count": 50,
   "id": "dffae848",
   "metadata": {},
   "outputs": [
    {
     "data": {
      "text/plain": [
       "[2, 2, 3, 3, 4, 5, 6, 7, 8, 9, 9]"
      ]
     },
     "execution_count": 50,
     "metadata": {},
     "output_type": "execute_result"
    }
   ],
   "source": [
    "my_tuple = (2, 3, 5, 6, 4, 7, 8, 9, 9, 2, 3)\n",
    "sorted(my_tuple)"
   ]
  },
  {
   "cell_type": "markdown",
   "id": "fd2053cc",
   "metadata": {},
   "source": [
    "## 3.  Introduction to Dictionary"
   ]
  },
  {
   "cell_type": "markdown",
   "id": "5e96c200",
   "metadata": {},
   "source": [
    "#### General Syntax of Dictionary:\n",
    "dictionary_name = {\n",
    "                   key_1:value_1,\n",
    "                   key_2:value_2,\n",
    "                   key_3:value_3\n",
    "                   }"
   ]
  },
  {
   "cell_type": "markdown",
   "id": "1e97961f",
   "metadata": {},
   "source": [
    "### Create Dictionary\n",
    "Separate keys from values with a colon(:), and a pair from another by a comma(,). Put it all in curly braces"
   ]
  },
  {
   "cell_type": "code",
   "execution_count": 55,
   "id": "385c7a05",
   "metadata": {},
   "outputs": [
    {
     "name": "stdout",
     "output_type": "stream",
     "text": [
      "{'Mia': 83847, 'John': 83837, 'Jill': 94766}\n"
     ]
    }
   ],
   "source": [
    "# create dictionary\n",
    "balance = {\n",
    "           \"Mia\":83847,\n",
    "           \"John\":83837,\n",
    "           \"Jill\":94766\n",
    "          }\n",
    "print(balance)"
   ]
  },
  {
   "cell_type": "markdown",
   "id": "eb720918",
   "metadata": {},
   "source": [
    "### Accessing items\n",
    "You can access the items of a dictionary by referring to its key name, inside square brackets"
   ]
  },
  {
   "cell_type": "code",
   "execution_count": 56,
   "id": "8a63175c",
   "metadata": {},
   "outputs": [
    {
     "data": {
      "text/plain": [
       "83847"
      ]
     },
     "execution_count": 56,
     "metadata": {},
     "output_type": "execute_result"
    }
   ],
   "source": [
    "# Get the value of \"Mia\" key\n",
    "x = balance[\"Mia\"]\n",
    "x"
   ]
  },
  {
   "cell_type": "markdown",
   "id": "c19a7e4c",
   "metadata": {},
   "source": [
    "We can use get method to get the value of \"Mia\" key"
   ]
  },
  {
   "cell_type": "code",
   "execution_count": 57,
   "id": "2a573a84",
   "metadata": {},
   "outputs": [
    {
     "data": {
      "text/plain": [
       "83847"
      ]
     },
     "execution_count": 57,
     "metadata": {},
     "output_type": "execute_result"
    }
   ],
   "source": [
    "x = balance.get(\"Mia\")\n",
    "x"
   ]
  },
  {
   "cell_type": "markdown",
   "id": "876707c7",
   "metadata": {},
   "source": [
    "### Change Values\n",
    "You can change the value of a specific element by referring to its key name"
   ]
  },
  {
   "cell_type": "code",
   "execution_count": 58,
   "id": "41f4b397",
   "metadata": {},
   "outputs": [
    {
     "data": {
      "text/plain": [
       "{2015: 34500, 2016: 34300, 2017: 40000}"
      ]
     },
     "execution_count": 58,
     "metadata": {},
     "output_type": "execute_result"
    }
   ],
   "source": [
    "# create dictionary\n",
    "year_sales = {\n",
    "           2015:34500,\n",
    "           2016:34300,\n",
    "           2017:40000\n",
    "          }\n",
    "\n",
    "year_sales"
   ]
  },
  {
   "cell_type": "code",
   "execution_count": 59,
   "id": "50d47a63",
   "metadata": {},
   "outputs": [
    {
     "data": {
      "text/plain": [
       "{2015: 45000, 2016: 34300, 2017: 40000}"
      ]
     },
     "execution_count": 59,
     "metadata": {},
     "output_type": "execute_result"
    }
   ],
   "source": [
    "# change the sales figures for 2015\n",
    "year_sales[2015] = 45000\n",
    "\n",
    "year_sales"
   ]
  },
  {
   "cell_type": "markdown",
   "id": "4180c238",
   "metadata": {},
   "source": [
    "### Dictionary Length"
   ]
  },
  {
   "cell_type": "code",
   "execution_count": 60,
   "id": "c4dfaade",
   "metadata": {},
   "outputs": [
    {
     "name": "stdout",
     "output_type": "stream",
     "text": [
      "3\n"
     ]
    }
   ],
   "source": [
    "# print the length of the dictionary\n",
    "print(len(year_sales))"
   ]
  },
  {
   "cell_type": "markdown",
   "id": "3ed3a8a5",
   "metadata": {},
   "source": [
    "### Adding items\n",
    "Adding an item to the dictionary is done by using a new index key and assigning a value to it"
   ]
  },
  {
   "cell_type": "code",
   "execution_count": 63,
   "id": "48ea0863",
   "metadata": {},
   "outputs": [
    {
     "data": {
      "text/plain": [
       "{2015: 34500, 2016: 34300, 2017: 40000, 2018: 55000}"
      ]
     },
     "execution_count": 63,
     "metadata": {},
     "output_type": "execute_result"
    }
   ],
   "source": [
    "# create dictionary\n",
    "year_sales = {\n",
    "           2015:34500,\n",
    "           2016:34300,\n",
    "           2017:40000\n",
    "          }\n",
    "\n",
    "year_sales[2018] = 55000\n",
    "\n",
    "year_sales"
   ]
  },
  {
   "cell_type": "markdown",
   "id": "a9b2b688",
   "metadata": {},
   "source": [
    "### Dictionary Method"
   ]
  },
  {
   "cell_type": "markdown",
   "id": "687cad85",
   "metadata": {},
   "source": [
    "#### Removing Items\n",
    "There are several methods to remove items from a dictionary:<br>\n",
    "pop() method<br>\n",
    "popitem() method<br>\n",
    "del keyword<br>\n",
    "clear keyword<br>"
   ]
  },
  {
   "cell_type": "markdown",
   "id": "8b8d9321",
   "metadata": {},
   "source": [
    "#### pop()\n",
    "The pop() method removes the item with the specified key name"
   ]
  },
  {
   "cell_type": "code",
   "execution_count": 62,
   "id": "2afb6774",
   "metadata": {},
   "outputs": [
    {
     "data": {
      "text/plain": [
       "{2016: 34300, 2017: 40000}"
      ]
     },
     "execution_count": 62,
     "metadata": {},
     "output_type": "execute_result"
    }
   ],
   "source": [
    "# create dictionary\n",
    "year_sales = {\n",
    "           2015:34500,\n",
    "           2016:34300,\n",
    "           2017:40000\n",
    "          }\n",
    "\n",
    "# remove key from dictionary\n",
    "year_sales.pop(2015)\n",
    "\n",
    "year_sales"
   ]
  },
  {
   "cell_type": "markdown",
   "id": "b4f06eb1",
   "metadata": {},
   "source": [
    "#### **popitem()**\n",
    "The popitem() method removes the last inserted item"
   ]
  },
  {
   "cell_type": "code",
   "execution_count": 64,
   "id": "652b5fa5",
   "metadata": {},
   "outputs": [
    {
     "data": {
      "text/plain": [
       "{2015: 34500, 2016: 34300}"
      ]
     },
     "execution_count": 64,
     "metadata": {},
     "output_type": "execute_result"
    }
   ],
   "source": [
    "# create dictionary\n",
    "year_sales = {\n",
    "           2015:34500,\n",
    "           2016:34300,\n",
    "           2017:40000\n",
    "          }\n",
    "\n",
    "# remove last item from the dictionary\n",
    "year_sales.popitem()\n",
    "\n",
    "year_sales"
   ]
  },
  {
   "cell_type": "markdown",
   "id": "fe79d9b8",
   "metadata": {},
   "source": [
    "#### del keyword\n",
    "The del keyword removes the item with the specified key name"
   ]
  },
  {
   "cell_type": "code",
   "execution_count": 65,
   "id": "af8ddde4",
   "metadata": {},
   "outputs": [
    {
     "data": {
      "text/plain": [
       "{2016: 34300, 2017: 40000}"
      ]
     },
     "execution_count": 65,
     "metadata": {},
     "output_type": "execute_result"
    }
   ],
   "source": [
    "# create dictionary\n",
    "year_sales = {\n",
    "           2015:34500,\n",
    "           2016:34300,\n",
    "           2017:40000\n",
    "          }\n",
    "\n",
    "# delete item from the dictionary\n",
    "del year_sales[2015]\n",
    "\n",
    "year_sales"
   ]
  },
  {
   "cell_type": "markdown",
   "id": "359d958d",
   "metadata": {},
   "source": [
    "#### **clear()**\n",
    "The clear method empties the dictionary"
   ]
  },
  {
   "cell_type": "code",
   "execution_count": 66,
   "id": "94cb5a31",
   "metadata": {},
   "outputs": [
    {
     "data": {
      "text/plain": [
       "{}"
      ]
     },
     "execution_count": 66,
     "metadata": {},
     "output_type": "execute_result"
    }
   ],
   "source": [
    "# create dictionary\n",
    "year_sales = {\n",
    "           2015:34500,\n",
    "           2016:34300,\n",
    "           2017:40000\n",
    "          }\n",
    "\n",
    "# clear the dictionary\n",
    "year_sales.clear()\n",
    "\n",
    "year_sales"
   ]
  },
  {
   "cell_type": "markdown",
   "id": "005370f7",
   "metadata": {},
   "source": [
    "#### copy()\n",
    "You cannot copy a dictionary simply by typing dict2 = dict1, because dict2 will only be a reference to dict1, and changes made in dict1 will automatically also be made in dict2.\n",
    "You can use copy() method to make copy of dictionary"
   ]
  },
  {
   "cell_type": "code",
   "execution_count": 70,
   "id": "c629cd61",
   "metadata": {},
   "outputs": [
    {
     "data": {
      "text/plain": [
       "{2015: 34500, 2016: 34300, 2017: 40000}"
      ]
     },
     "execution_count": 70,
     "metadata": {},
     "output_type": "execute_result"
    }
   ],
   "source": [
    "# create dictionary\n",
    "year_sales = {\n",
    "           2015:34500,\n",
    "           2016:34300,\n",
    "           2017:40000\n",
    "          }\n",
    "\n",
    "# make a copy of the dictionary\n",
    "copy_dict = year_sales.copy()\n",
    "copy_dict"
   ]
  },
  {
   "cell_type": "markdown",
   "id": "609a463e",
   "metadata": {},
   "source": [
    "#### sorted()\n",
    "Return a new sorted list of keys in the dictionary"
   ]
  },
  {
   "cell_type": "code",
   "execution_count": 71,
   "id": "567b2dd5",
   "metadata": {},
   "outputs": [
    {
     "data": {
      "text/plain": [
       "[1, 3, 5, 7, 9]"
      ]
     },
     "execution_count": 71,
     "metadata": {},
     "output_type": "execute_result"
    }
   ],
   "source": [
    "Square = {1:1, 5:25, 7:49, 3:9, 9:81}\n",
    "sorted(Square)"
   ]
  },
  {
   "cell_type": "markdown",
   "id": "1a1a8b37",
   "metadata": {},
   "source": [
    "#### update()\n",
    "We can also add and modify dictionaries by using the dict.update() method"
   ]
  },
  {
   "cell_type": "code",
   "execution_count": 68,
   "id": "4d20c4ce",
   "metadata": {},
   "outputs": [
    {
     "data": {
      "text/plain": [
       "{2015: 34500, 2016: 34300, 2017: 40000, 2018: 30000}"
      ]
     },
     "execution_count": 68,
     "metadata": {},
     "output_type": "execute_result"
    }
   ],
   "source": [
    "# create dictionary\n",
    "year_sales = {\n",
    "           2015:34500,\n",
    "           2016:34300,\n",
    "           2017:40000\n",
    "          }\n",
    "\n",
    "# update dictionary\n",
    "year_sales.update({2018:30000})\n",
    "\n",
    "year_sales"
   ]
  },
  {
   "cell_type": "markdown",
   "id": "d46d0a65",
   "metadata": {},
   "source": [
    "## 4. Introduction to Sets"
   ]
  },
  {
   "cell_type": "markdown",
   "id": "1139f0ba",
   "metadata": {},
   "source": [
    "### Creating Sets\n",
    "In Python, sets are written with curly brackets"
   ]
  },
  {
   "cell_type": "code",
   "execution_count": 72,
   "id": "0dcf07a1",
   "metadata": {},
   "outputs": [
    {
     "name": "stdout",
     "output_type": "stream",
     "text": [
      "{1, 2, 3, 4}\n"
     ]
    },
    {
     "data": {
      "text/plain": [
       "{1, 2, 3, 4}"
      ]
     },
     "execution_count": 72,
     "metadata": {},
     "output_type": "execute_result"
    }
   ],
   "source": [
    "# create a set\n",
    "s = {1, 2, 3, 3, 4, 3, 3, 2, 2, 2}\n",
    "print(s)\n",
    "\n",
    "# create a set\n",
    "set([1, 2, 3, 4, 4, 4])"
   ]
  },
  {
   "cell_type": "markdown",
   "id": "79cadf6c",
   "metadata": {},
   "source": [
    "Python has the following methods that you can use on sets:<br>\n",
    "add()<br>\n",
    "update()<br>\n",
    "len()<br>\n",
    "remove()<br>\n",
    "pop()<br>"
   ]
  },
  {
   "cell_type": "markdown",
   "id": "ac93add3",
   "metadata": {},
   "source": [
    "## 5. Conditional Statements and Loops"
   ]
  },
  {
   "cell_type": "markdown",
   "id": "dfff4ae3",
   "metadata": {},
   "source": [
    "### 5.1 If Statement"
   ]
  },
  {
   "cell_type": "markdown",
   "id": "e3340eb6",
   "metadata": {},
   "source": [
    "#### **syntax**\n",
    "if BOOLEAN EXPRESSION:<br>\n",
    "&nbsp;&nbsp; STATEMENTS"
   ]
  },
  {
   "cell_type": "markdown",
   "id": "228ceecf",
   "metadata": {},
   "source": [
    "Now, we will see some examples on if statements"
   ]
  },
  {
   "cell_type": "code",
   "execution_count": 74,
   "id": "fe4dcd74",
   "metadata": {},
   "outputs": [
    {
     "name": "stdout",
     "output_type": "stream",
     "text": [
      "Python Tutorial\n"
     ]
    }
   ],
   "source": [
    "# create a string\n",
    "my_string = 'Python'\n",
    "\n",
    "# create a list\n",
    "my_list = ['Data Science', 'Machine Learning', 'Artificial Intelligence', 'Python']\n",
    "\n",
    "if my_string in my_list:\n",
    "    print(my_string + ' Tutorial')"
   ]
  },
  {
   "cell_type": "markdown",
   "id": "85935424",
   "metadata": {},
   "source": [
    "Test whether an item is a member of a list or not."
   ]
  },
  {
   "cell_type": "code",
   "execution_count": 75,
   "id": "5f731479",
   "metadata": {},
   "outputs": [
    {
     "name": "stdout",
     "output_type": "stream",
     "text": [
      "right\n"
     ]
    }
   ],
   "source": [
    "languages = ['java', 'python', 'perl', 'ruby', 'c#']\n",
    "if 'python' in languages:\n",
    "    print('right')"
   ]
  },
  {
   "cell_type": "markdown",
   "id": "57846233",
   "metadata": {},
   "source": [
    "### 5.2 if  else statement"
   ]
  },
  {
   "cell_type": "markdown",
   "id": "07706659",
   "metadata": {},
   "source": [
    "#### **Syntax of if ... else**\n",
    "if BOOLEAN EXPRESSION:<br>\n",
    "&nbsp;&nbsp; STATEMENTS_1<br>\n",
    "else:<br>\n",
    "&nbsp;&nbsp; STATEMENTS_2<br>"
   ]
  },
  {
   "cell_type": "markdown",
   "id": "08f4141a",
   "metadata": {},
   "source": [
    "Let's see an example of the implementation of the if ... else statement"
   ]
  },
  {
   "cell_type": "code",
   "execution_count": 78,
   "id": "4ddf0506",
   "metadata": {},
   "outputs": [
    {
     "name": "stdout",
     "output_type": "stream",
     "text": [
      "500\n",
      "The value of x is equal to 500\n"
     ]
    }
   ],
   "source": [
    "# create an integer\n",
    "x = 500\n",
    "print(x)\n",
    "\n",
    "# use the not operator to reverse the result of the logical expression\n",
    "if not x == 500:\n",
    "    print('The value of x is different from 500')\n",
    "else:\n",
    "    print('The value of x is equal to 500')"
   ]
  },
  {
   "cell_type": "code",
   "execution_count": 82,
   "id": "6a9bd78a",
   "metadata": {},
   "outputs": [
    {
     "name": "stdout",
     "output_type": "stream",
     "text": [
      "enter your user id greatlearning\n",
      "enter your password y\n",
      "Please check your user id and password\n"
     ]
    }
   ],
   "source": [
    "string1 = str(input('enter your user id '))\n",
    "string2 = str(input('enter your password '))\n",
    "\n",
    "if (string1 == \"greatlearning\" and string2 == \"simplelearning123\" ):\n",
    "    print(\"Successfully logged in!!\")\n",
    "else:\n",
    "    print('Please check your user id and password')"
   ]
  },
  {
   "cell_type": "markdown",
   "id": "35fc3878",
   "metadata": {},
   "source": [
    "### 5.3 if elif else\n"
   ]
  },
  {
   "cell_type": "markdown",
   "id": "aae551d5",
   "metadata": {},
   "source": [
    "#### **Syntax of if elif else:**\n",
    "if x<y:<br>\n",
    "&nbsp;&nbsp; STATEMENTS_A<br>\n",
    "elif x>y:<br>\n",
    "&nbsp;&nbsp; STATEMENTS_B<br>\n",
    "else:<br>\n",
    "&nbsp;&nbsp; STATEMENTS_C<br>"
   ]
  },
  {
   "cell_type": "markdown",
   "id": "a7c6f84d",
   "metadata": {},
   "source": [
    "Check whether the given number is greater than 50 or not"
   ]
  },
  {
   "cell_type": "code",
   "execution_count": 84,
   "id": "21773e3a",
   "metadata": {},
   "outputs": [
    {
     "name": "stdout",
     "output_type": "stream",
     "text": [
      "Number is greater than 50\n"
     ]
    }
   ],
   "source": [
    "num = 100\n",
    "\n",
    "if (num == 0):\n",
    "    print(\"Number is Zero\")\n",
    "elif (num > 50):\n",
    "    print(\"Number is greater than 50\")\n",
    "else:\n",
    "    print(\"Number is less than 50\")"
   ]
  },
  {
   "cell_type": "markdown",
   "id": "0cd71d94",
   "metadata": {},
   "source": [
    "### 5.4 nested if and if else statement\n"
   ]
  },
  {
   "cell_type": "code",
   "execution_count": 89,
   "id": "9bc238f9",
   "metadata": {},
   "outputs": [
    {
     "name": "stdout",
     "output_type": "stream",
     "text": [
      "Enter a number: -5\n",
      "Negative number\n"
     ]
    }
   ],
   "source": [
    "num = float(input(\"Enter a number: \"))\n",
    "if num >= 0:\n",
    "    if num == 0:\n",
    "        print(\"Zero\")\n",
    "    else:\n",
    "        print(\"Positive number\")\n",
    "else:\n",
    "    print(\"Negative number\")"
   ]
  },
  {
   "cell_type": "markdown",
   "id": "28d5aa15",
   "metadata": {},
   "source": [
    "### 5.5 for loop\n"
   ]
  },
  {
   "cell_type": "markdown",
   "id": "4588e467",
   "metadata": {},
   "source": [
    "#### **Syntax of for loop**\n",
    "for val in sequence:<br>\n",
    "&nbsp;&nbsp; Body of for"
   ]
  },
  {
   "cell_type": "code",
   "execution_count": 96,
   "id": "60d164cf",
   "metadata": {},
   "outputs": [
    {
     "name": "stdout",
     "output_type": "stream",
     "text": [
      "The sum is  2068\n"
     ]
    }
   ],
   "source": [
    "# Program to find the sum of all numbers stored in a list\n",
    "\n",
    "# list of numbers\n",
    "numbers = [66, 545, 223, 438, 224, 122, 125, 214, 111]\n",
    "\n",
    "# variable to store the sum\n",
    "sum = 0\n",
    "\n",
    "# iterate over the list\n",
    "for val in numbers:\n",
    "    sum = sum + val\n",
    "\n",
    "# Output: The sum is\n",
    "print(\"The sum is \", sum)"
   ]
  },
  {
   "cell_type": "markdown",
   "id": "4d185434",
   "metadata": {},
   "source": [
    "### 5.6 while loop\n"
   ]
  },
  {
   "cell_type": "markdown",
   "id": "cc35a019",
   "metadata": {},
   "source": [
    "#### **Syntax of while loop**\n",
    "while (expression):<br>\n",
    "&nbsp;&nbsp; Statement_1<br>\n",
    "&nbsp;&nbsp; Statement_2<br>\n",
    "&nbsp;&nbsp; ..."
   ]
  },
  {
   "cell_type": "markdown",
   "id": "009b7286",
   "metadata": {},
   "source": [
    "Calculate the sum of the integers from 0 to 9"
   ]
  },
  {
   "cell_type": "code",
   "execution_count": 97,
   "id": "65095281",
   "metadata": {},
   "outputs": [
    {
     "name": "stdout",
     "output_type": "stream",
     "text": [
      "The sum of first 9 integers  45\n"
     ]
    }
   ],
   "source": [
    "a = 0\n",
    "b = 0\n",
    "while (a < 10):\n",
    "    b = b + a\n",
    "    a = a+1\n",
    "else:\n",
    "    print('The sum of first 9 integers ', b)\n",
    "\n",
    "    \n",
    "   "
   ]
  },
  {
   "cell_type": "markdown",
   "id": "2cf04687",
   "metadata": {},
   "source": [
    "### 5.7 break statement\n"
   ]
  },
  {
   "cell_type": "markdown",
   "id": "9c0866b8",
   "metadata": {},
   "source": [
    "Check whether a number entered by the user is negative or not"
   ]
  },
  {
   "cell_type": "code",
   "execution_count": 99,
   "id": "41395c5f",
   "metadata": {},
   "outputs": [
    {
     "name": "stdout",
     "output_type": "stream",
     "text": [
      "6\n",
      "1000\n",
      "-9\n",
      "Met a negative number -9\n"
     ]
    }
   ],
   "source": [
    "for i in range(5):\n",
    "    a = int(input())\n",
    "    if a < 0:\n",
    "        print('Met a negative number', a)\n",
    "        break\n",
    "else:\n",
    "    print('No negative numbers met')"
   ]
  },
  {
   "cell_type": "markdown",
   "id": "a652ca64",
   "metadata": {},
   "source": [
    "### 5.8 continue statement\n"
   ]
  },
  {
   "cell_type": "code",
   "execution_count": 100,
   "id": "0a8d9b17",
   "metadata": {},
   "outputs": [
    {
     "name": "stdout",
     "output_type": "stream",
     "text": [
      "1 2 3 4 5 7 8 9 10 "
     ]
    }
   ],
   "source": [
    "# loop from 1 to 10\n",
    "for i in range(1,11):\n",
    "    if i == 6:\n",
    "        continue\n",
    "    else:\n",
    "        # otherwise print the value of i\n",
    "        print(i, end = \" \")"
   ]
  },
  {
   "cell_type": "markdown",
   "id": "1eb20d74",
   "metadata": {},
   "source": [
    "Use the continue statement in a while loop"
   ]
  },
  {
   "cell_type": "code",
   "execution_count": 101,
   "id": "9ac5d534",
   "metadata": {},
   "outputs": [
    {
     "name": "stdout",
     "output_type": "stream",
     "text": [
      "1\n",
      "2\n",
      "4\n",
      "5\n",
      "6\n",
      "7\n",
      "8\n",
      "9\n"
     ]
    }
   ],
   "source": [
    "i = 0\n",
    "while i < 9:\n",
    "    i += 1\n",
    "    if i == 3:\n",
    "        continue\n",
    "    print(i)"
   ]
  },
  {
   "cell_type": "code",
   "execution_count": null,
   "id": "85df9713",
   "metadata": {},
   "outputs": [],
   "source": []
  }
 ],
 "metadata": {
  "kernelspec": {
   "display_name": "Python 3 (ipykernel)",
   "language": "python",
   "name": "python3"
  },
  "language_info": {
   "codemirror_mode": {
    "name": "ipython",
    "version": 3
   },
   "file_extension": ".py",
   "mimetype": "text/x-python",
   "name": "python",
   "nbconvert_exporter": "python",
   "pygments_lexer": "ipython3",
   "version": "3.10.9"
  }
 },
 "nbformat": 4,
 "nbformat_minor": 5
}
